{
  "nbformat": 4,
  "nbformat_minor": 0,
  "metadata": {
    "colab": {
      "provenance": [],
      "authorship_tag": "ABX9TyNZa80kAvSX3fLtkm+NqMgx",
      "include_colab_link": true
    },
    "kernelspec": {
      "name": "python3",
      "display_name": "Python 3"
    },
    "language_info": {
      "name": "python"
    }
  },
  "cells": [
    {
      "cell_type": "markdown",
      "metadata": {
        "id": "view-in-github",
        "colab_type": "text"
      },
      "source": [
        "<a href=\"https://colab.research.google.com/github/frankxsu11ivan/20221031-PY/blob/main/Copy_of_BluApe.ipynb\" target=\"_parent\"><img src=\"https://colab.research.google.com/assets/colab-badge.svg\" alt=\"Open In Colab\"/></a>"
      ]
    },
    {
      "cell_type": "code",
      "execution_count": null,
      "metadata": {
        "id": "dfPA1pPadzhf"
      },
      "outputs": [],
      "source": [
        "def merge_iterators(it1, it2):\n",
        "    # mapping from id to [id, iterator, value]\n",
        "    entries = {}\n",
        "    try:\n",
        "        entries[0] = [0, it1, next(it1)]\n",
        "    except StopIteration:\n",
        "        pass\n",
        "\n",
        "    try:\n",
        "        entries[1] = [1, it2, next(it2)]\n",
        "    except StopIteration:\n",
        "        pass\n",
        "\n",
        "    while entries:\n",
        "        # Get the smallest value of all the entries\n",
        "        entry = min(entries.values(), key=lambda entry: entry[2])\n",
        "        id, iterator, val = entry\n",
        "\n",
        "        # Yield it\n",
        "        yield val\n",
        "\n",
        "        try:\n",
        "            # Move that entry forward\n",
        "            entry[2] = next(iterator)\n",
        "        except StopIteration:\n",
        "            # If reached the end, remove from entries\n",
        "            del entries[id]\n",
        "   \n"
      ]
    },
    {
      "cell_type": "code",
      "source": [],
      "metadata": {
        "id": "HPrxLwarek3u"
      },
      "execution_count": null,
      "outputs": []
    }
  ]
}